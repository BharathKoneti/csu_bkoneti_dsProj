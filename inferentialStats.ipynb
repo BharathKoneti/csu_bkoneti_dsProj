{
 "cells": [
  {
   "cell_type": "code",
   "execution_count": 3,
   "metadata": {},
   "outputs": [],
   "source": [
    "import pandas as pd\n",
    "import numpy as np\n",
    "import seaborn as sns\n",
    "import scipy.stats as stats\n",
    "import matplotlib.pyplot as plt\n",
    "pd.set_option('display.float_format', lambda x: '%.9f' % x)"
   ]
  },
  {
   "cell_type": "markdown",
   "metadata": {},
   "source": [
    "## Data Joins and Data Frame builds\n",
    "## Goal is to separate health outcomes from unhealthy behaviors and preventative measures"
   ]
  },
  {
   "cell_type": "code",
   "execution_count": 4,
   "metadata": {},
   "outputs": [],
   "source": [
    "data = pd.read_csv('data/cleansed/data.csv')\n",
    "dataDef = pd.read_csv('data/cleansed/data_def.csv')\n",
    "locations = pd.read_csv('data/cleansed/locations.csv')"
   ]
  },
  {
   "cell_type": "code",
   "execution_count": 5,
   "metadata": {},
   "outputs": [],
   "source": [
    "data2 = data.set_index('uniqueid').join(locations.set_index('uniqueid')[['geographiclevel','stateabbr','cityname']]).copy()\n",
    "data2 = data2[data2['geographiclevel'] == 'Census Tract']\n",
    "data2 = data2.drop(['Unnamed: 0','datavaluetypeid','geographiclevel'],axis=1).reset_index()"
   ]
  },
  {
   "cell_type": "code",
   "execution_count": 6,
   "metadata": {},
   "outputs": [
    {
     "data": {
      "text/html": [
       "<div>\n",
       "<style scoped>\n",
       "    .dataframe tbody tr th:only-of-type {\n",
       "        vertical-align: middle;\n",
       "    }\n",
       "\n",
       "    .dataframe tbody tr th {\n",
       "        vertical-align: top;\n",
       "    }\n",
       "\n",
       "    .dataframe thead th {\n",
       "        text-align: right;\n",
       "    }\n",
       "</style>\n",
       "<table border=\"1\" class=\"dataframe\">\n",
       "  <thead>\n",
       "    <tr style=\"text-align: right;\">\n",
       "      <th></th>\n",
       "      <th>uniqueid</th>\n",
       "      <th>stateabbr</th>\n",
       "      <th>cityname</th>\n",
       "      <th>populationcount</th>\n",
       "      <th>measureid</th>\n",
       "      <th>value</th>\n",
       "    </tr>\n",
       "  </thead>\n",
       "  <tbody>\n",
       "    <tr>\n",
       "      <td>0</td>\n",
       "      <td>0107000-01073000100</td>\n",
       "      <td>AL</td>\n",
       "      <td>Birmingham</td>\n",
       "      <td>3042.000000000</td>\n",
       "      <td>ACCESS2</td>\n",
       "      <td>0.239000000</td>\n",
       "    </tr>\n",
       "    <tr>\n",
       "      <td>1</td>\n",
       "      <td>0107000-01073000300</td>\n",
       "      <td>AL</td>\n",
       "      <td>Birmingham</td>\n",
       "      <td>2735.000000000</td>\n",
       "      <td>ACCESS2</td>\n",
       "      <td>0.288000000</td>\n",
       "    </tr>\n",
       "    <tr>\n",
       "      <td>2</td>\n",
       "      <td>0107000-01073000400</td>\n",
       "      <td>AL</td>\n",
       "      <td>Birmingham</td>\n",
       "      <td>3338.000000000</td>\n",
       "      <td>ACCESS2</td>\n",
       "      <td>0.261000000</td>\n",
       "    </tr>\n",
       "    <tr>\n",
       "      <td>3</td>\n",
       "      <td>0107000-01073000500</td>\n",
       "      <td>AL</td>\n",
       "      <td>Birmingham</td>\n",
       "      <td>2864.000000000</td>\n",
       "      <td>ACCESS2</td>\n",
       "      <td>0.281000000</td>\n",
       "    </tr>\n",
       "    <tr>\n",
       "      <td>4</td>\n",
       "      <td>0107000-01073000700</td>\n",
       "      <td>AL</td>\n",
       "      <td>Birmingham</td>\n",
       "      <td>2577.000000000</td>\n",
       "      <td>ACCESS2</td>\n",
       "      <td>0.318000000</td>\n",
       "    </tr>\n",
       "  </tbody>\n",
       "</table>\n",
       "</div>"
      ],
      "text/plain": [
       "              uniqueid stateabbr    cityname  populationcount measureid  \\\n",
       "0  0107000-01073000100        AL  Birmingham   3042.000000000   ACCESS2   \n",
       "1  0107000-01073000300        AL  Birmingham   2735.000000000   ACCESS2   \n",
       "2  0107000-01073000400        AL  Birmingham   3338.000000000   ACCESS2   \n",
       "3  0107000-01073000500        AL  Birmingham   2864.000000000   ACCESS2   \n",
       "4  0107000-01073000700        AL  Birmingham   2577.000000000   ACCESS2   \n",
       "\n",
       "        value  \n",
       "0 0.239000000  \n",
       "1 0.288000000  \n",
       "2 0.261000000  \n",
       "3 0.281000000  \n",
       "4 0.318000000  "
      ]
     },
     "execution_count": 6,
     "metadata": {},
     "output_type": "execute_result"
    }
   ],
   "source": [
    "dataMelt = data2.melt(id_vars=['uniqueid','stateabbr','cityname','populationcount'],var_name='measureid')\n",
    "dataMelt.head()"
   ]
  },
  {
   "cell_type": "code",
   "execution_count": 7,
   "metadata": {},
   "outputs": [
    {
     "data": {
      "text/html": [
       "<div>\n",
       "<style scoped>\n",
       "    .dataframe tbody tr th:only-of-type {\n",
       "        vertical-align: middle;\n",
       "    }\n",
       "\n",
       "    .dataframe tbody tr th {\n",
       "        vertical-align: top;\n",
       "    }\n",
       "\n",
       "    .dataframe thead th {\n",
       "        text-align: right;\n",
       "    }\n",
       "</style>\n",
       "<table border=\"1\" class=\"dataframe\">\n",
       "  <thead>\n",
       "    <tr style=\"text-align: right;\">\n",
       "      <th></th>\n",
       "      <th>uniqueid</th>\n",
       "      <th>stateabbr</th>\n",
       "      <th>cityname</th>\n",
       "      <th>populationcount</th>\n",
       "      <th>measureid</th>\n",
       "      <th>value</th>\n",
       "    </tr>\n",
       "  </thead>\n",
       "  <tbody>\n",
       "    <tr>\n",
       "      <td>190386</td>\n",
       "      <td>0107000-01073000100</td>\n",
       "      <td>AL</td>\n",
       "      <td>Birmingham</td>\n",
       "      <td>3042.000000000</td>\n",
       "      <td>CHD</td>\n",
       "      <td>0.080000000</td>\n",
       "    </tr>\n",
       "    <tr>\n",
       "      <td>190387</td>\n",
       "      <td>0107000-01073000300</td>\n",
       "      <td>AL</td>\n",
       "      <td>Birmingham</td>\n",
       "      <td>2735.000000000</td>\n",
       "      <td>CHD</td>\n",
       "      <td>0.082000000</td>\n",
       "    </tr>\n",
       "    <tr>\n",
       "      <td>190388</td>\n",
       "      <td>0107000-01073000400</td>\n",
       "      <td>AL</td>\n",
       "      <td>Birmingham</td>\n",
       "      <td>3338.000000000</td>\n",
       "      <td>CHD</td>\n",
       "      <td>0.088000000</td>\n",
       "    </tr>\n",
       "    <tr>\n",
       "      <td>190389</td>\n",
       "      <td>0107000-01073000500</td>\n",
       "      <td>AL</td>\n",
       "      <td>Birmingham</td>\n",
       "      <td>2864.000000000</td>\n",
       "      <td>CHD</td>\n",
       "      <td>0.108000000</td>\n",
       "    </tr>\n",
       "    <tr>\n",
       "      <td>190390</td>\n",
       "      <td>0107000-01073000700</td>\n",
       "      <td>AL</td>\n",
       "      <td>Birmingham</td>\n",
       "      <td>2577.000000000</td>\n",
       "      <td>CHD</td>\n",
       "      <td>0.119000000</td>\n",
       "    </tr>\n",
       "  </tbody>\n",
       "</table>\n",
       "</div>"
      ],
      "text/plain": [
       "                   uniqueid stateabbr    cityname  populationcount measureid  \\\n",
       "190386  0107000-01073000100        AL  Birmingham   3042.000000000       CHD   \n",
       "190387  0107000-01073000300        AL  Birmingham   2735.000000000       CHD   \n",
       "190388  0107000-01073000400        AL  Birmingham   3338.000000000       CHD   \n",
       "190389  0107000-01073000500        AL  Birmingham   2864.000000000       CHD   \n",
       "190390  0107000-01073000700        AL  Birmingham   2577.000000000       CHD   \n",
       "\n",
       "             value  \n",
       "190386 0.080000000  \n",
       "190387 0.082000000  \n",
       "190388 0.088000000  \n",
       "190389 0.108000000  \n",
       "190390 0.119000000  "
      ]
     },
     "execution_count": 7,
     "metadata": {},
     "output_type": "execute_result"
    }
   ],
   "source": [
    "filt1 = dataMelt['measureid']=='SLEEP'\n",
    "filt2 = dataMelt['measureid']=='LPA'\n",
    "filt3 = dataMelt['measureid']=='OBESITY'\n",
    "filt4 = dataMelt['measureid']=='CHD'\n",
    "filtered = dataMelt[(filt1)|(filt2)|(filt3)|(filt4)]\n",
    "filtered.head()"
   ]
  },
  {
   "cell_type": "code",
   "execution_count": 8,
   "metadata": {},
   "outputs": [],
   "source": [
    "pivoted = filtered.reset_index().pivot_table('value',['uniqueid','populationcount','stateabbr','cityname'],'measureid')"
   ]
  },
  {
   "cell_type": "code",
   "execution_count": 9,
   "metadata": {},
   "outputs": [],
   "source": [
    "## Can there be a difference in geography/State?\n",
    "idx = pd.IndexSlice\n",
    "newYork = pivoted.loc[idx[:,:,'NY'],:]\n",
    "texas = pivoted.loc[idx[:,:,'TX'],:]\n",
    "california = pivoted.loc[idx[:,:,'CA'],:]\n",
    "connecticut = pivoted.loc[idx[:,:,'CT'],:]\n",
    "\n",
    "nyObesity = newYork.OBESITY.values\n",
    "txObesity = texas.OBESITY.values\n",
    "caObesity = california.OBESITY.values\n",
    "ctObesity = connecticut.OBESITY.values"
   ]
  },
  {
   "cell_type": "code",
   "execution_count": 10,
   "metadata": {},
   "outputs": [],
   "source": [
    "## Hypothesis: NY and TX Obesity Rates Are the Same\n",
    "# Shift means to be the same mean, take 10000 random samples, and subtract TX from NY\n",
    "def stateMeans(a,b,size=10000):\n",
    "    comb = np.concatenate([a,b])\n",
    "    shiftedA = a - a.mean() + comb.mean()\n",
    "    shiftedB = b - b.mean() + comb.mean()\n",
    "\n",
    "    replicateCount = size\n",
    "    replicateDiffs = np.empty(replicateCount)\n",
    "\n",
    "    for i in range(replicateCount):\n",
    "        tmpA = np.random.choice(shiftedA,size=len(shiftedA))\n",
    "        tmpB = np.random.choice(shiftedB,size=len(shiftedB))\n",
    "        replicateDiffs[i]= tmpA.mean() - tmpB.mean()\n",
    "        \n",
    "    return replicateDiffs"
   ]
  },
  {
   "cell_type": "markdown",
   "metadata": {},
   "source": [
    "<b>Null Hypothesis:</b> There is no difference between the obesity rate of censuses in Texas and New York <BR>\n",
    "<b>Test Statistic:</b> Difference of Means Betwee NY & TX"
   ]
  },
  {
   "cell_type": "code",
   "execution_count": 11,
   "metadata": {},
   "outputs": [
    {
     "ename": "NameError",
     "evalue": "name 'nyObesitySimpleMean' is not defined",
     "output_type": "error",
     "traceback": [
      "\u001b[0;31m---------------------------------------------------------------------------\u001b[0m",
      "\u001b[0;31mNameError\u001b[0m                                 Traceback (most recent call last)",
      "\u001b[0;32m<ipython-input-11-61b634272ea0>\u001b[0m in \u001b[0;36m<module>\u001b[0;34m\u001b[0m\n\u001b[1;32m      1\u001b[0m \u001b[0;31m## Plt differences of random samples, observed diff,\u001b[0m\u001b[0;34m\u001b[0m\u001b[0;34m\u001b[0m\u001b[0;34m\u001b[0m\u001b[0m\n\u001b[0;32m----> 2\u001b[0;31m \u001b[0mobsDiff\u001b[0m \u001b[0;34m=\u001b[0m \u001b[0mnyObesitySimpleMean\u001b[0m\u001b[0;34m-\u001b[0m\u001b[0mtxObesitySimpleMean\u001b[0m\u001b[0;34m\u001b[0m\u001b[0;34m\u001b[0m\u001b[0m\n\u001b[0m\u001b[1;32m      3\u001b[0m \u001b[0mreplicateDiffs\u001b[0m \u001b[0;34m=\u001b[0m\u001b[0mstateMeans\u001b[0m\u001b[0;34m(\u001b[0m\u001b[0mnyObesity\u001b[0m\u001b[0;34m,\u001b[0m\u001b[0mtxObesity\u001b[0m\u001b[0;34m,\u001b[0m\u001b[0;36m25000\u001b[0m\u001b[0;34m)\u001b[0m\u001b[0;34m\u001b[0m\u001b[0;34m\u001b[0m\u001b[0m\n\u001b[1;32m      4\u001b[0m \u001b[0mplt\u001b[0m\u001b[0;34m.\u001b[0m\u001b[0mhist\u001b[0m\u001b[0;34m(\u001b[0m\u001b[0mreplicateDiffs\u001b[0m\u001b[0;34m,\u001b[0m\u001b[0mbins\u001b[0m\u001b[0;34m=\u001b[0m\u001b[0;36m30\u001b[0m\u001b[0;34m,\u001b[0m\u001b[0mnormed\u001b[0m\u001b[0;34m=\u001b[0m\u001b[0;32mTrue\u001b[0m\u001b[0;34m,\u001b[0m\u001b[0mlabel\u001b[0m\u001b[0;34m=\u001b[0m\u001b[0;34m'Replicate Differences'\u001b[0m\u001b[0;34m)\u001b[0m\u001b[0;34m\u001b[0m\u001b[0;34m\u001b[0m\u001b[0m\n\u001b[1;32m      5\u001b[0m \u001b[0mplt\u001b[0m\u001b[0;34m.\u001b[0m\u001b[0mvlines\u001b[0m\u001b[0;34m(\u001b[0m\u001b[0mobsDiff\u001b[0m\u001b[0;34m,\u001b[0m\u001b[0;36m0\u001b[0m\u001b[0;34m,\u001b[0m\u001b[0;36m200\u001b[0m\u001b[0;34m,\u001b[0m\u001b[0mcolor\u001b[0m\u001b[0;34m=\u001b[0m\u001b[0;34m'red'\u001b[0m\u001b[0;34m,\u001b[0m\u001b[0mlabel\u001b[0m\u001b[0;34m=\u001b[0m\u001b[0;34m'Obsered Difference'\u001b[0m\u001b[0;34m)\u001b[0m\u001b[0;34m\u001b[0m\u001b[0;34m\u001b[0m\u001b[0m\n",
      "\u001b[0;31mNameError\u001b[0m: name 'nyObesitySimpleMean' is not defined"
     ]
    }
   ],
   "source": [
    "## Plt differences of random samples, observed diff, \n",
    "obsDiff = nyObesitySimpleMean-txObesitySimpleMean\n",
    "replicateDiffs =stateMeans(nyObesity,txObesity,25000)\n",
    "plt.hist(replicateDiffs,bins=30,normed=True,label='Replicate Differences')\n",
    "plt.vlines(obsDiff,0,200,color='red',label='Obsered Difference')\n",
    "\n",
    "## Generate Confidence Intervals\n",
    "\n",
    "low,high = np.percentile(replicateDiffs,[.5,99.5])\n",
    "plt.vlines(low,0,100,color='purple',label='99% Conf Bands')\n",
    "plt.vlines(high,0,100,color='purple')\n",
    "plt.title('Replicated Random Differences Between NY Obesity Rate and TX Obesity Rate')\n",
    "plt.ylabel('Occurrences')\n",
    "plt.xlabel('Differences')\n",
    "plt.legend()\n",
    "plt.savefig('img/nyVstxObesity.png')\n",
    "plt.show()\n",
    "\n",
    "pval = np.sum(replicateDiffs<obsDiff)/len(replicateDiffs)\n",
    "\n",
    "print('Observed Difference: {0:0.3f}'.format(obsDiff))\n",
    "print('99% Conf Intervals: ({0:0.3f}, {1:0.3f})'.format(low,high))\n",
    "print('P Value: {0:0.3f}'.format(pval))\n",
    "print('We can reject the null hypothesis that there is no differnece between obesity rates in NY & TX')"
   ]
  },
  {
   "cell_type": "code",
   "execution_count": null,
   "metadata": {},
   "outputs": [],
   "source": [
    "tstat = ((nyObesity.mean() - txObesity.mean())-0)/np.sqrt((nyObesity.std()**2/len(nyObesity))+(txObesity.std()**2/len(txObesity)))\n",
    "print('Calc t stat p value: {0:0.5f}'.format(stats.norm.pdf(tstat)*2))\n",
    "print('Scipy Stats T stat p value: {0:0.5f}'.format(stats.ttest_ind(nyObesity,txObesity,)[1]))\n",
    "print('Again, we can reject the null hypothesis that there is no difference between obesity rates in NY & TX')"
   ]
  },
  {
   "cell_type": "markdown",
   "metadata": {},
   "source": [
    "<b>Null Hypothesis:</b> There is no difference between the obesity rate of censuses in California and New York <BR>\n",
    "<b>Test Statistic:</b> Difference of Means Betwee NY & CA"
   ]
  },
  {
   "cell_type": "code",
   "execution_count": null,
   "metadata": {},
   "outputs": [],
   "source": [
    "## Plt differences of random samples, observed diff, \n",
    "obsDiff = nyObesity.mean()-caObesity.mean()\n",
    "replicateDiffs =stateMeans(nyObesity,caObesity,25000)\n",
    "plt.hist(replicateDiffs,bins=30,normed=True,label='Replicate Differences')\n",
    "plt.vlines(obsDiff,0,200,color='red',label='Obsered Difference')\n",
    "\n",
    "## Generate Confidence Intervals\n",
    "\n",
    "low,high = np.percentile(replicateDiffs,[.5,99.5])\n",
    "plt.vlines(low,0,100,color='purple',label='99% Conf Bands')\n",
    "plt.vlines(high,0,100,color='purple')\n",
    "plt.title('Replicated Random Differences Between NY Obesity Rate and CA Obesity Rate')\n",
    "plt.ylabel('Occurrences')\n",
    "plt.xlabel('Differences')\n",
    "plt.legend()\n",
    "plt.savefig('img/nyVscaObesity.png')\n",
    "plt.show()\n",
    "\n",
    "pval = np.sum(replicateDiffs>obsDiff)/len(replicateDiffs)\n",
    "\n",
    "print('Observed Difference: {0:0.3f}'.format(obsDiff))\n",
    "print('99% Conf Intervals: ({0:0.3f}, {1:0.3f})'.format(low,high))\n",
    "print('P Value: {0:0.3f}'.format(pval))\n",
    "print('We can reject the null hypothesis that there is no differnece between obesity rates in NY & CA')"
   ]
  },
  {
   "cell_type": "code",
   "execution_count": null,
   "metadata": {},
   "outputs": [],
   "source": [
    "tstat = ((nyObesity.mean() - caObesity.mean())-0)\n",
    "tstat /= np.sqrt((nyObesity.std()**2/len(nyObesity))+(caObesity.std()**2/len(caObesity)))\n",
    "print('Calc t stat p value: {0:0.5f}'.format(stats.norm.pdf(tstat)*2))\n",
    "print('Scipy Stats T stat p value: {0:0.5f}'.format(stats.ttest_ind(nyObesity,caObesity,)[1]))\n",
    "print('Again, we can reject the null hypothesis that there is no differnece between obesity rates in NY & CA')"
   ]
  },
  {
   "cell_type": "markdown",
   "metadata": {},
   "source": [
    "<b>Null Hypothesis:</b> There is no difference between the obesity rate of censuses in Connecticut and New York <BR>\n",
    "<b>Test Statistic:</b> Difference of Means Betwee NY & CT"
   ]
  },
  {
   "cell_type": "code",
   "execution_count": null,
   "metadata": {},
   "outputs": [],
   "source": [
    "## Plt differences of random samples, observed diff, \n",
    "obsDiff = nyObesity.mean()-ctObesity.mean()\n",
    "replicateDiffs =stateMeans(nyObesity,ctObesity,10000)\n",
    "plt.hist(replicateDiffs,bins=30,normed=True,label='Replicate Differences')\n",
    "plt.vlines(obsDiff,0,80,color='red',label='Obsered Difference')\n",
    "\n",
    "## Generate Confidence Intervals\n",
    "\n",
    "low,high = np.percentile(replicateDiffs,[.5,99.5])\n",
    "plt.vlines(low,0,45,color='purple',label='99% Conf Bands')\n",
    "plt.vlines(high,0,45,color='purple')\n",
    "plt.title('Replicated Random Differences Between NY Obesity Rate and CT Obesity Rate')\n",
    "plt.ylabel('Occurrences')\n",
    "plt.xlabel('Differences')\n",
    "plt.legend()\n",
    "plt.savefig('img/nyVsctObesity.png')\n",
    "plt.show()\n",
    "\n",
    "pval = np.sum(replicateDiffs<obsDiff)/len(replicateDiffs)\n",
    "\n",
    "print('Observed Difference: {0:0.3f}'.format(obsDiff))\n",
    "print('99% Conf Intervals: ({0:0.3f}, {1:0.3f})'.format(low,high))\n",
    "print('P Value: {0:0.3f}'.format(pval))\n",
    "print('We can reject the null hypothesis that there is no differnece between obesity rates in NY & CT')"
   ]
  },
  {
   "cell_type": "code",
   "execution_count": null,
   "metadata": {},
   "outputs": [],
   "source": []
  },
  {
   "cell_type": "code",
   "execution_count": null,
   "metadata": {},
   "outputs": [],
   "source": [
    "tstat = ((nyObesity.mean() - ctObesity.mean())-0)/np.sqrt((nyObesity.std()**2/len(nyObesity))+(ctObesity.std()**2/len(ctObesity)))\n",
    "print('Calc t stat p value: {0:0.5f}'.format(stats.norm.pdf(tstat)*2))\n",
    "print('Scipy Stats T stat p value: {0:0.5f}'.format(stats.ttest_ind(nyObesity,ctObesity,)[1]))\n",
    "print('Again, we can reject the null hypothesis that there is no differnece between obesity rates in NY & CT')"
   ]
  },
  {
   "cell_type": "code",
   "execution_count": null,
   "metadata": {},
   "outputs": [],
   "source": [
    "np.sqrt((nyObesity.std()**2/len(nyObesity))-(ctObesity.std()**2/len(ctObesity)))"
   ]
  },
  {
   "cell_type": "code",
   "execution_count": null,
   "metadata": {},
   "outputs": [],
   "source": [
    "def regReplicatePlot(x,y,size=100):\n",
    "    obesity = pivoted['OBESITY']\n",
    "    lpa = pivoted['LPA']\n",
    "    slope,intercept = np.polyfit(x,y,1)\n",
    "    fig,ax = plt.subplots(1,1,figsize=(15,5))\n",
    "    plt.plot(x,y,marker='.',linestyle='none',alpha=.4)\n",
    "    xminmax = np.array([x.min(),x.max()])\n",
    "\n",
    "    for i in range(size):\n",
    "        #List of temp index\n",
    "        inds = np.arange(len(x))\n",
    "\n",
    "        #Random Index Locations\n",
    "        b_inds = np.random.choice(inds,len(inds))\n",
    "\n",
    "        #Select x & y lines based on random index\n",
    "        tx = x[b_inds].values\n",
    "        ty = y[b_inds].values\n",
    "\n",
    "        #generate random regression line & plot\n",
    "        tslope,tint = np.polyfit(tx,ty,1)\n",
    "        plt.plot(xminmax,xminmax*tslope+tint,color='green',alpha=.2,linewidth=.25)\n",
    "\n",
    "    #Plot observed regression line\n",
    "    plt.plot(xminmax,xminmax*slope+intercept,color='red',linewidth=.5)\n",
    "    return fig\n",
    "\n",
    "def corr_BS(x,y,size=1):\n",
    "\n",
    "    reps = np.empty(size)\n",
    "    inds = np.arange(len(x))\n",
    "    for i in range(size):\n",
    "\n",
    "        #Random Index Locations\n",
    "        tx = np.random.permutation(x)\n",
    "        reps[i] = stats.pearsonr(tx,y)[0]\n",
    "        \n",
    "    return reps"
   ]
  },
  {
   "cell_type": "code",
   "execution_count": null,
   "metadata": {},
   "outputs": [],
   "source": [
    "fig = regReplicatePlot(pivoted['LPA'],pivoted['OBESITY'],1000)\n",
    "\n",
    "#plot labels & title\n",
    "plt.title('Relationship Between Low Physical Activity & Obesity',fontsize=14)\n",
    "plt.xlabel('LPA')\n",
    "plt.ylabel('OBESITY')\n",
    "\n",
    "#Save figure and show\n",
    "plt.savefig('img/lpaObesity1kreg.png')\n",
    "plt.legend(['Obesity vs Low Physical Activity','Random Regressions'],)\n",
    "plt.show()\n",
    "\n",
    "orgCorr, p = stats.pearsonr(pivoted['LPA'],pivoted['OBESITY'])\n",
    "print('Pearson Correlation: {0:0.3f}'.format(orgCorr))\n",
    "print('P-Value: {0:0.5f}'.format(p))"
   ]
  },
  {
   "cell_type": "code",
   "execution_count": null,
   "metadata": {},
   "outputs": [],
   "source": [
    "## Prove out correlation with pvalue = 0.00000 by creating 10,000 replicates and taking p value\n",
    "reps = corr_BS(pivoted['LPA'],pivoted['OBESITY'],10000)\n",
    "orgCorr = stats.pearsonr(pivoted['LPA'],pivoted['OBESITY'])[0]\n",
    "\n",
    "plt.hist(reps,bins=30,normed=True,label='Replicates Correlations')\n",
    "plt.vlines(orgCorr,0,50,color='red',label='Observed Correlation')\n",
    "confInt = np.percentile(reps,[.5,99.5])\n",
    "plt.vlines(confInt[0],0,25,color='red',alpha=.5)\n",
    "plt.vlines(confInt[1],0,25,color='red',alpha=.5)\n",
    "plt.title('Replicated Correlations Between Low Physical Activity & Obesity')\n",
    "plt.xlabel('Correlation')\n",
    "plt.ylabel('Occurrences')\n",
    "plt.legend()\n",
    "plt.show()\n",
    "\n",
    "pval = np.sum(reps>orgCorr)/len(reps)\n",
    "print('Null Hypothesis: There is no correlation between Low Physical Activity')\n",
    "print('Confidence Intervals: ({0:0.4f},{1:0.4f})'.format(confInt[0],confInt[1]))\n",
    "print('Original Observed Correlation: {0:0.4f}'.format(orgCorr))\n",
    "print('P Value From Replicates: {0:0.5f}'.format(pval))\n",
    "print('We can reject the null hypothesis that there is no correlation between LPA and Obesity')"
   ]
  },
  {
   "cell_type": "code",
   "execution_count": null,
   "metadata": {},
   "outputs": [],
   "source": [
    "fig = regReplicatePlot(pivoted['SLEEP'],pivoted['OBESITY'],1000)\n",
    "\n",
    "#plot labels & title\n",
    "plt.title('Relationship Between Less Sleep & Obesity',fontsize=14)\n",
    "plt.xlabel('SLEEP')\n",
    "plt.ylabel('OBESITY')\n",
    "\n",
    "#Save figure and show\n",
    "plt.savefig('img/sleepObesity1kreg.png')\n",
    "plt.show()\n",
    "\n",
    "orgCorr, p = stats.pearsonr(pivoted['SLEEP'],pivoted['OBESITY'])\n",
    "print('Pearson Correlation: {0:0.3f}'.format(orgCorr))\n",
    "print('P-Value: {0:0.5f}'.format(p))"
   ]
  },
  {
   "cell_type": "code",
   "execution_count": null,
   "metadata": {},
   "outputs": [],
   "source": [
    "## Prove out correlation with pvalue = 0.00000 by creating 10,000 replicates and taking p value\n",
    "reps = corr_BS(pivoted['SLEEP'],pivoted['OBESITY'],10000)\n",
    "plt.hist(reps,bins=30,normed=True,label='Replicates Correlations')\n",
    "plt.vlines(orgCorr,0,50,color='red',label='Observed Correlation')\n",
    "confInt = np.percentile(reps,[.5,99.5])\n",
    "plt.vlines(confInt[0],0,25,color='red',alpha=.5)\n",
    "plt.vlines(confInt[1],0,25,color='red',alpha=.5)\n",
    "plt.title('Replicated Correlations Between Sleep & Obesity')\n",
    "plt.legend()\n",
    "plt.show()\n",
    "\n",
    "pval = np.sum(reps<orgCorr)/len(reps)\n",
    "print('Null Hypothesis: There is no correlation between Low amount of Sleep and Obesity')\n",
    "print('Confidence Intervals: ({0:0.4f},{1:0.4f})'.format(confInt[0],confInt[1]))\n",
    "print('Original Observed Correlation: {0:0.4f}'.format(orgCorr))\n",
    "print('P Value From Replicates: {0:0.5f}'.format(pval))\n",
    "print('We can reject the null hypothesis that there is no correlation between Low amounts of sleep and Obesity')"
   ]
  },
  {
   "cell_type": "code",
   "execution_count": null,
   "metadata": {},
   "outputs": [],
   "source": [
    "fig = regReplicatePlot(pivoted.reset_index()['populationcount'],pivoted['OBESITY'],1000)\n",
    "\n",
    "#plot labels & title\n",
    "plt.title('Relationship Between Population & Obesity',fontsize=14)\n",
    "plt.xlabel('POPULATION')\n",
    "plt.ylabel('OBESITY')\n",
    "\n",
    "#Save figure and show\n",
    "plt.savefig('img/sleepObesity1kreg.png')\n",
    "plt.show()\n",
    "\n",
    "orgCorr, p = stats.pearsonr(pivoted.reset_index()['populationcount'],pivoted['OBESITY'])\n",
    "print('Pearson Correlation: {0:0.3f}'.format(orgCorr))\n",
    "print('P-Value: {0:0.5f}'.format(p))"
   ]
  },
  {
   "cell_type": "code",
   "execution_count": null,
   "metadata": {},
   "outputs": [],
   "source": [
    "## Prove out correlation with pvalue = 0.00000 by creating 10,000 replicates and taking p value\n",
    "reps = corr_BS(pivoted.reset_index()['populationcount'],pivoted['OBESITY'],10000)\n",
    "plt.hist(reps,bins=30,normed=True,label='Replicates Correlations')\n",
    "plt.vlines(orgCorr,0,50,color='red',label='Observed Correlation')\n",
    "confInt = np.percentile(reps,[.5,99.5])\n",
    "plt.vlines(confInt[0],0,25,color='red',alpha=.5)\n",
    "plt.vlines(confInt[1],0,25,color='red',alpha=.5)\n",
    "plt.title('Replicated Correlations Between Population & Obesity')\n",
    "plt.legend()\n",
    "plt.show()\n",
    "\n",
    "pval = np.sum(reps<orgCorr)/len(reps)\n",
    "print('Null Hypothesis: There is no correlation between Population Count and Obesity')\n",
    "print('Confidence Intervals: ({0:0.4f},{1:0.4f})'.format(confInt[0],confInt[1]))\n",
    "print('Original Observed Correlation: {0:0.4f}'.format(orgCorr))\n",
    "print('P Value From Replicates: {0:0.5f}'.format(pval))\n",
    "print('We can reject the null hypothesis that there is no correlation between Population Count and Obesity')"
   ]
  },
  {
   "cell_type": "code",
   "execution_count": null,
   "metadata": {},
   "outputs": [],
   "source": []
  },
  {
   "cell_type": "code",
   "execution_count": null,
   "metadata": {},
   "outputs": [],
   "source": []
  }
 ],
 "metadata": {
  "kernelspec": {
   "display_name": "Python 3",
   "language": "python",
   "name": "python3"
  }
 },
 "nbformat": 4,
 "nbformat_minor": 2
}
