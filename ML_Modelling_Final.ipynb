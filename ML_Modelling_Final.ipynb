{
 "cells": [
  {
   "cell_type": "markdown",
   "metadata": {},
   "source": [
    "# Data Modelling - Application of ML Algorithms\n",
    "\n",
    "# Using Linear Regression, Lasso Regression and Random Forest"
   ]
  },
  {
   "cell_type": "markdown",
   "metadata": {},
   "source": [
    "Application of ML Algorithms - Linear Regression, Ridge Regression and Random Forests to Predict the effect of Unhealthy Behaviours and Income on Obesity and Cancer"
   ]
  },
  {
   "cell_type": "code",
   "execution_count": 14,
   "metadata": {},
   "outputs": [],
   "source": [
    "#Importing libraries \n",
    "import pandas as pd\n",
    "import numpy as np\n",
    "\n",
    "from sklearn.model_selection import cross_val_score,GridSearchCV,train_test_split\n",
    "from sklearn.preprocessing import StandardScaler\n",
    "from sklearn.linear_model import LinearRegression, Lasso, Ridge\n",
    "from sklearn.decomposition import NMF,PCA\n",
    "from sklearn.metrics import accuracy_score, r2_score\n",
    "import statsmodels.api as sm\n",
    "from scipy import stats\n",
    "from sklearn.ensemble import RandomForestRegressor\n",
    "\n",
    "import seaborn as sns\n",
    "import matplotlib.pyplot as plt\n",
    "%matplotlib inline\n",
    "pd.set_option('display.float_format', lambda x: '%.9f' % x)\n",
    "\n",
    "#Custom\n",
    "zscore = lambda x: (x-x.mean())/x.std()\n",
    "np.random.seed(21)"
   ]
  },
  {
   "cell_type": "markdown",
   "metadata": {},
   "source": [
    "# Join the data and locations for ML analysis"
   ]
  },
  {
   "cell_type": "code",
   "execution_count": 15,
   "metadata": {},
   "outputs": [],
   "source": [
    "data = pd.read_csv('data/cleansed/data.csv')\n",
    "locations = pd.read_csv('data/cleansed/locations.csv',index_col=0)"
   ]
  },
  {
   "cell_type": "code",
   "execution_count": 16,
   "metadata": {},
   "outputs": [],
   "source": [
    "# %load join_data_locations.py\n",
    "#Join Location and and data dataframes\n",
    "data_join = data.join(locations[['geographiclevel','stateabbr','cityname']]).copy()\n",
    "# Keeping only census level data\n",
    "census_data = data_join[data_join['geographiclevel'] == 'Census Tract']\n",
    "# Drop unnecessary and NOT needed columns\n",
    "census_data_req = census_data.drop(['datavaluetypeid','geographiclevel','stateabbr','cityname'],axis=1).reset_index().set_index('uniqueid')"
   ]
  },
  {
   "cell_type": "markdown",
   "metadata": {},
   "source": [
    "# Initial Observations:\n",
    "Part 1: Obesity\n",
    "Features such as \"MAMMOUSE\", \"PAPTEST\", BPMED','TEETHLOST','DENTAL'does not make contextual sense in predecting Obesity\n",
    "Also, some of the effects due to Obesity are already very well known.\n",
    "\n",
    "Part 2: Cancer\n",
    "With respect to CANCER, we'll also remove some contextual irrelevant features such as \"MAMMOUSE\", \"TEETHLOST\" and \"DENTAL\".\n",
    "\n",
    "Thus removing features which don't make much contextual sense and are already well known and are highly correlated "
   ]
  },
  {
   "cell_type": "code",
   "execution_count": 17,
   "metadata": {},
   "outputs": [],
   "source": [
    "# %load feature_selection.py\n",
    "# Contextualy irrelevant features for Obesity\n",
    "noncontext = np.array(['MAMMOUSE','PAPTEST','BPMED','TEETHLOST','DENTAL']) \n",
    "# Already known effects of Obesity\n",
    "known_effects_of_obesity = np.array(['CHD','BPHIGH','ARTHRITIS','DIABETES','HIGHCHOL','PHLTH','KIDNEY','STROKE'])\n",
    "# Drop above two from our dataframe\n",
    "census_data_Obesity = census_data_req.drop(np.concatenate([noncontext,known_effects_of_obesity]),axis=1)\n",
    "census_data_Obesity.drop(['MHLTH','COREM','COPD','COLON_SCREEN'],axis=1,inplace=True)\n",
    "\n",
    "# Contextualy irrelevant features for Cancer\n",
    "noncontext_cancer = np.array(['MAMMOUSE','TEETHLOST','DENTAL']) \n",
    "# Drop above two from our dataframe\n",
    "census_data_Cancer = census_data_req.drop(np.concatenate([noncontext_cancer]),axis=1)"
   ]
  },
  {
   "cell_type": "markdown",
   "metadata": {},
   "source": [
    "# Divide the data into train and test - (75% - 25%)"
   ]
  },
  {
   "cell_type": "code",
   "execution_count": 18,
   "metadata": {},
   "outputs": [],
   "source": [
    "# %load divide_test_train.py\n",
    "# 1. For Obesity\n",
    "y = census_data_Obesity['OBESITY']\n",
    "X = census_data_Obesity.drop('OBESITY',axis=1)\n",
    "# Separate data into train and test\n",
    "Xtrain_obesity, Xtest_obesity, ytrain_obesity, ytest_obesity = train_test_split(X,y,test_size=.25)\n",
    "\n",
    "#2. For Cancer\n",
    "y = census_data_Cancer['CANCER']\n",
    "X = census_data_Cancer.drop('CANCER',axis=1)\n",
    "# Separate data into train and test\n",
    "Xtrain_cancer, Xtest_cancer, ytrain_cancer, ytest_cancer = train_test_split(X,y,test_size=.25)"
   ]
  },
  {
   "cell_type": "markdown",
   "metadata": {},
   "source": [
    "# Lets fit all the Features into our model."
   ]
  },
  {
   "cell_type": "markdown",
   "metadata": {},
   "source": [
    "# 1. Obesity\n",
    "\n",
    "# OLS Regression Summary WITH the Outliers"
   ]
  },
  {
   "cell_type": "code",
   "execution_count": 19,
   "metadata": {},
   "outputs": [
    {
     "name": "stdout",
     "output_type": "stream",
     "text": [
      "                                 OLS Regression Results                                \n",
      "=======================================================================================\n",
      "Dep. Variable:                OBESITY   R-squared (uncentered):                   0.988\n",
      "Model:                            OLS   Adj. R-squared (uncentered):              0.988\n",
      "Method:                 Least Squares   F-statistic:                          8.649e+04\n",
      "Date:                Thu, 03 Dec 2020   Prob (F-statistic):                        0.00\n",
      "Time:                        15:18:54   Log-Likelihood:                          27144.\n",
      "No. Observations:               13628   AIC:                                 -5.426e+04\n",
      "Df Residuals:                   13615   BIC:                                 -5.416e+04\n",
      "Df Model:                          13                                                  \n",
      "Covariance Type:            nonrobust                                                  \n",
      "===================================================================================\n",
      "                      coef    std err          t      P>|t|      [0.025      0.975]\n",
      "-----------------------------------------------------------------------------------\n",
      "index              -0.0003   1.19e-05    -27.186      0.000      -0.000      -0.000\n",
      "Unnamed: 0          0.0003   1.16e-05     27.219      0.000       0.000       0.000\n",
      "populationcount -8.608e-11   1.07e-10     -0.805      0.421   -2.96e-10    1.24e-10\n",
      "ACCESS2             0.0757      0.006     11.872      0.000       0.063       0.088\n",
      "BINGE              -0.0917      0.010     -9.626      0.000      -0.110      -0.073\n",
      "CANCER             -0.1569      0.033     -4.757      0.000      -0.222      -0.092\n",
      "CASTHMA             0.6445      0.035     18.566      0.000       0.576       0.713\n",
      "CHECKUP            -0.0021      0.010     -0.212      0.832      -0.021       0.017\n",
      "CHOLSCREEN          0.1059      0.008     12.699      0.000       0.090       0.122\n",
      "COREW               0.0067      0.007      0.902      0.367      -0.008       0.021\n",
      "CSMOKING            0.5709      0.012     48.764      0.000       0.548       0.594\n",
      "LPA                 0.3694      0.012     30.853      0.000       0.346       0.393\n",
      "SLEEP              -0.1116      0.011     -9.947      0.000      -0.134      -0.090\n",
      "==============================================================================\n",
      "Omnibus:                      534.594   Durbin-Watson:                   1.986\n",
      "Prob(Omnibus):                  0.000   Jarque-Bera (JB):              997.594\n",
      "Skew:                          -0.307   Prob(JB):                    2.37e-217\n",
      "Kurtosis:                       4.175   Cond. No.                     3.45e+08\n",
      "==============================================================================\n",
      "\n",
      "Warnings:\n",
      "[1] Standard Errors assume that the covariance matrix of the errors is correctly specified.\n",
      "[2] The condition number is large, 3.45e+08. This might indicate that there are\n",
      "strong multicollinearity or other numerical problems.\n"
     ]
    }
   ],
   "source": [
    "m0_obesity = sm.OLS(ytrain_obesity,Xtrain_obesity).fit()\n",
    "print(m0_obesity.summary())"
   ]
  },
  {
   "cell_type": "markdown",
   "metadata": {},
   "source": [
    "# OLS Regression Summary after REMOVING the Outliers"
   ]
  },
  {
   "cell_type": "code",
   "execution_count": 20,
   "metadata": {},
   "outputs": [],
   "source": [
    "# %load obesity_without_outlier\n",
    "abnormal_resids_obesity = m0_obesity.resid[m0_obesity.resid <= -.10]\n",
    "\n",
    "arr_obesity = np.empty(len(Xtrain_obesity.index.values),dtype=np.bool)\n",
    "for i,j in enumerate(Xtrain_obesity.index.values):\n",
    "    arr_obesity[i] = True if j in abnormal_resids_obesity.index.values else False\n",
    "\n",
    "m1_obesity = sm.OLS(ytrain_obesity[~arr_obesity],Xtrain_obesity[~arr_obesity]).fit()"
   ]
  },
  {
   "cell_type": "code",
   "execution_count": 21,
   "metadata": {
    "scrolled": false
   },
   "outputs": [
    {
     "name": "stdout",
     "output_type": "stream",
     "text": [
      "AIC Change: -859.1384\n",
      "                                 OLS Regression Results                                \n",
      "=======================================================================================\n",
      "Dep. Variable:                OBESITY   R-squared (uncentered):                   0.989\n",
      "Model:                            OLS   Adj. R-squared (uncentered):              0.989\n",
      "Method:                 Least Squares   F-statistic:                          9.412e+04\n",
      "Date:                Thu, 03 Dec 2020   Prob (F-statistic):                        0.00\n",
      "Time:                        15:18:54   Log-Likelihood:                          27573.\n",
      "No. Observations:               13551   AIC:                                 -5.512e+04\n",
      "Df Residuals:                   13538   BIC:                                 -5.502e+04\n",
      "Df Model:                          13                                                  \n",
      "Covariance Type:            nonrobust                                                  \n",
      "===================================================================================\n",
      "                      coef    std err          t      P>|t|      [0.025      0.975]\n",
      "-----------------------------------------------------------------------------------\n",
      "index              -0.0003   1.14e-05    -27.310      0.000      -0.000      -0.000\n",
      "Unnamed: 0          0.0003   1.11e-05     27.345      0.000       0.000       0.000\n",
      "populationcount -8.655e-11   1.02e-10     -0.845      0.398   -2.87e-10    1.14e-10\n",
      "ACCESS2             0.0545      0.006      8.868      0.000       0.042       0.067\n",
      "BINGE              -0.0814      0.009     -8.878      0.000      -0.099      -0.063\n",
      "CANCER             -0.1747      0.032     -5.519      0.000      -0.237      -0.113\n",
      "CASTHMA             0.6196      0.034     18.495      0.000       0.554       0.685\n",
      "CHECKUP            -0.0076      0.009     -0.804      0.421      -0.026       0.011\n",
      "CHOLSCREEN          0.1041      0.008     12.925      0.000       0.088       0.120\n",
      "COREW               0.0054      0.007      0.768      0.442      -0.008       0.019\n",
      "CSMOKING            0.5429      0.011     48.137      0.000       0.521       0.565\n",
      "LPA                 0.4153      0.012     35.920      0.000       0.393       0.438\n",
      "SLEEP              -0.1001      0.011     -9.279      0.000      -0.121      -0.079\n",
      "==============================================================================\n",
      "Omnibus:                       34.042   Durbin-Watson:                   1.988\n",
      "Prob(Omnibus):                  0.000   Jarque-Bera (JB):               38.231\n",
      "Skew:                          -0.076   Prob(JB):                     4.99e-09\n",
      "Kurtosis:                       3.211   Cond. No.                     3.46e+08\n",
      "==============================================================================\n",
      "\n",
      "Warnings:\n",
      "[1] Standard Errors assume that the covariance matrix of the errors is correctly specified.\n",
      "[2] The condition number is large, 3.46e+08. This might indicate that there are\n",
      "strong multicollinearity or other numerical problems.\n"
     ]
    }
   ],
   "source": [
    "print('AIC Change: {:.4f}'.format(m1_obesity.aic-m0_obesity.aic))\n",
    "print(m1_obesity.summary())"
   ]
  },
  {
   "cell_type": "markdown",
   "metadata": {},
   "source": [
    "# 2. Cancer\n",
    "# OLS Regression Summary WITH the Outliers"
   ]
  },
  {
   "cell_type": "code",
   "execution_count": 22,
   "metadata": {},
   "outputs": [
    {
     "name": "stdout",
     "output_type": "stream",
     "text": [
      "                                 OLS Regression Results                                \n",
      "=======================================================================================\n",
      "Dep. Variable:                 CANCER   R-squared (uncentered):                   0.996\n",
      "Model:                            OLS   Adj. R-squared (uncentered):              0.996\n",
      "Method:                 Least Squares   F-statistic:                          1.263e+05\n",
      "Date:                Thu, 03 Dec 2020   Prob (F-statistic):                        0.00\n",
      "Time:                        15:18:55   Log-Likelihood:                          56884.\n",
      "No. Observations:               13628   AIC:                                 -1.137e+05\n",
      "Df Residuals:                   13601   BIC:                                 -1.135e+05\n",
      "Df Model:                          27                                                  \n",
      "Covariance Type:            nonrobust                                                  \n",
      "===================================================================================\n",
      "                      coef    std err          t      P>|t|      [0.025      0.975]\n",
      "-----------------------------------------------------------------------------------\n",
      "index           -1.948e-06   1.44e-06     -1.358      0.175   -4.76e-06    8.65e-07\n",
      "Unnamed: 0       1.895e-06    1.4e-06      1.354      0.176   -8.48e-07    4.64e-06\n",
      "populationcount   1.08e-09   3.19e-10      3.384      0.001    4.54e-10    1.71e-09\n",
      "ACCESS2             0.0007      0.001      0.578      0.563      -0.002       0.003\n",
      "ARTHRITIS           0.1188      0.003     46.020      0.000       0.114       0.124\n",
      "BINGE              -0.0184      0.002    -11.167      0.000      -0.022      -0.015\n",
      "BPHIGH              0.0703      0.002     30.238      0.000       0.066       0.075\n",
      "BPMED              -0.0078      0.001     -6.989      0.000      -0.010      -0.006\n",
      "CASTHMA            -0.0499      0.006     -8.000      0.000      -0.062      -0.038\n",
      "CHD                 0.3943      0.011     34.772      0.000       0.372       0.417\n",
      "CHECKUP             0.0181      0.002     11.909      0.000       0.015       0.021\n",
      "CHOLSCREEN          0.0220      0.002     13.846      0.000       0.019       0.025\n",
      "COLON_SCREEN       -0.0054      0.001     -3.678      0.000      -0.008      -0.003\n",
      "COPD               -0.0195      0.008     -2.300      0.021      -0.036      -0.003\n",
      "COREM              -0.0231      0.001    -17.017      0.000      -0.026      -0.020\n",
      "COREW              -0.0065      0.001     -4.556      0.000      -0.009      -0.004\n",
      "CSMOKING           -0.0489      0.002    -21.689      0.000      -0.053      -0.044\n",
      "DIABETES           -0.3731      0.005    -70.320      0.000      -0.383      -0.363\n",
      "HIGHCHOL            0.0948      0.002     43.339      0.000       0.090       0.099\n",
      "KIDNEY              0.7137      0.024     29.839      0.000       0.667       0.761\n",
      "LPA                -0.0073      0.002     -4.214      0.000      -0.011      -0.004\n",
      "MHLTH               0.0523      0.006      8.985      0.000       0.041       0.064\n",
      "OBESITY            -0.0319      0.001    -22.204      0.000      -0.035      -0.029\n",
      "PAPTEST             0.0173      0.002     10.995      0.000       0.014       0.020\n",
      "PHLTH              -0.1243      0.007    -17.762      0.000      -0.138      -0.111\n",
      "SLEEP              -0.0379      0.001    -27.038      0.000      -0.041      -0.035\n",
      "STROKE              0.0634      0.015      4.287      0.000       0.034       0.092\n",
      "==============================================================================\n",
      "Omnibus:                     2289.059   Durbin-Watson:                   2.011\n",
      "Prob(Omnibus):                  0.000   Jarque-Bera (JB):            49814.720\n",
      "Skew:                          -0.017   Prob(JB):                         0.00\n",
      "Kurtosis:                      12.366   Cond. No.                     8.17e+07\n",
      "==============================================================================\n",
      "\n",
      "Warnings:\n",
      "[1] Standard Errors assume that the covariance matrix of the errors is correctly specified.\n",
      "[2] The condition number is large, 8.17e+07. This might indicate that there are\n",
      "strong multicollinearity or other numerical problems.\n"
     ]
    }
   ],
   "source": [
    "m0_cancer = sm.OLS(ytrain_cancer,Xtrain_cancer).fit()\n",
    "print(m0_cancer.summary())"
   ]
  },
  {
   "cell_type": "markdown",
   "metadata": {},
   "source": [
    "# OLS Regression Summary after REMOVING the Outliers"
   ]
  },
  {
   "cell_type": "code",
   "execution_count": 23,
   "metadata": {},
   "outputs": [],
   "source": [
    "# %load cancer_without_outlier.py\n",
    "abnormal_resids_cancer = m0_cancer.resid[m0_cancer.resid <= -.10]\n",
    "\n",
    "arr_cancer = np.empty(len(Xtrain_cancer.index.values),dtype=np.bool)\n",
    "for i,j in enumerate(Xtrain_cancer.index.values):\n",
    "    arr_cancer[i] = True if j in abnormal_resids_cancer.index.values else False\n",
    "\n",
    "m1_cancer = sm.OLS(ytrain_cancer[~arr_cancer],Xtrain_cancer[~arr_cancer]).fit()"
   ]
  },
  {
   "cell_type": "code",
   "execution_count": 24,
   "metadata": {},
   "outputs": [
    {
     "name": "stdout",
     "output_type": "stream",
     "text": [
      "AIC Change: 0.0000\n",
      "                                 OLS Regression Results                                \n",
      "=======================================================================================\n",
      "Dep. Variable:                 CANCER   R-squared (uncentered):                   0.996\n",
      "Model:                            OLS   Adj. R-squared (uncentered):              0.996\n",
      "Method:                 Least Squares   F-statistic:                          1.263e+05\n",
      "Date:                Thu, 03 Dec 2020   Prob (F-statistic):                        0.00\n",
      "Time:                        15:18:55   Log-Likelihood:                          56884.\n",
      "No. Observations:               13628   AIC:                                 -1.137e+05\n",
      "Df Residuals:                   13601   BIC:                                 -1.135e+05\n",
      "Df Model:                          27                                                  \n",
      "Covariance Type:            nonrobust                                                  \n",
      "===================================================================================\n",
      "                      coef    std err          t      P>|t|      [0.025      0.975]\n",
      "-----------------------------------------------------------------------------------\n",
      "index           -1.948e-06   1.44e-06     -1.358      0.175   -4.76e-06    8.65e-07\n",
      "Unnamed: 0       1.895e-06    1.4e-06      1.354      0.176   -8.48e-07    4.64e-06\n",
      "populationcount   1.08e-09   3.19e-10      3.384      0.001    4.54e-10    1.71e-09\n",
      "ACCESS2             0.0007      0.001      0.578      0.563      -0.002       0.003\n",
      "ARTHRITIS           0.1188      0.003     46.020      0.000       0.114       0.124\n",
      "BINGE              -0.0184      0.002    -11.167      0.000      -0.022      -0.015\n",
      "BPHIGH              0.0703      0.002     30.238      0.000       0.066       0.075\n",
      "BPMED              -0.0078      0.001     -6.989      0.000      -0.010      -0.006\n",
      "CASTHMA            -0.0499      0.006     -8.000      0.000      -0.062      -0.038\n",
      "CHD                 0.3943      0.011     34.772      0.000       0.372       0.417\n",
      "CHECKUP             0.0181      0.002     11.909      0.000       0.015       0.021\n",
      "CHOLSCREEN          0.0220      0.002     13.846      0.000       0.019       0.025\n",
      "COLON_SCREEN       -0.0054      0.001     -3.678      0.000      -0.008      -0.003\n",
      "COPD               -0.0195      0.008     -2.300      0.021      -0.036      -0.003\n",
      "COREM              -0.0231      0.001    -17.017      0.000      -0.026      -0.020\n",
      "COREW              -0.0065      0.001     -4.556      0.000      -0.009      -0.004\n",
      "CSMOKING           -0.0489      0.002    -21.689      0.000      -0.053      -0.044\n",
      "DIABETES           -0.3731      0.005    -70.320      0.000      -0.383      -0.363\n",
      "HIGHCHOL            0.0948      0.002     43.339      0.000       0.090       0.099\n",
      "KIDNEY              0.7137      0.024     29.839      0.000       0.667       0.761\n",
      "LPA                -0.0073      0.002     -4.214      0.000      -0.011      -0.004\n",
      "MHLTH               0.0523      0.006      8.985      0.000       0.041       0.064\n",
      "OBESITY            -0.0319      0.001    -22.204      0.000      -0.035      -0.029\n",
      "PAPTEST             0.0173      0.002     10.995      0.000       0.014       0.020\n",
      "PHLTH              -0.1243      0.007    -17.762      0.000      -0.138      -0.111\n",
      "SLEEP              -0.0379      0.001    -27.038      0.000      -0.041      -0.035\n",
      "STROKE              0.0634      0.015      4.287      0.000       0.034       0.092\n",
      "==============================================================================\n",
      "Omnibus:                     2289.059   Durbin-Watson:                   2.011\n",
      "Prob(Omnibus):                  0.000   Jarque-Bera (JB):            49814.720\n",
      "Skew:                          -0.017   Prob(JB):                         0.00\n",
      "Kurtosis:                      12.366   Cond. No.                     8.17e+07\n",
      "==============================================================================\n",
      "\n",
      "Warnings:\n",
      "[1] Standard Errors assume that the covariance matrix of the errors is correctly specified.\n",
      "[2] The condition number is large, 8.17e+07. This might indicate that there are\n",
      "strong multicollinearity or other numerical problems.\n"
     ]
    }
   ],
   "source": [
    "print('AIC Change: {:.4f}'.format(m1_cancer.aic-m0_cancer.aic))\n",
    "print(m1_cancer.summary())"
   ]
  },
  {
   "cell_type": "markdown",
   "metadata": {},
   "source": [
    "# Conclusions from Outlier Detections and Removal\n",
    "1. It looks like the model AIC score has decreased (Obesity: -1336.6065, Cancer: 0.0).\n",
    "2. R2 has increased just the slightest bit for Obesity but No change for Cancer.\n",
    "3. It may be be concluded that removing this data was a good step for atleast predicting Obesity. For Cancer, it dosen't make any difference"
   ]
  },
  {
   "cell_type": "markdown",
   "metadata": {},
   "source": [
    "# Feature Fitting Done, Now Run ML\n",
    "# 1. Obesity\n",
    "# a. Linear Regression"
   ]
  },
  {
   "cell_type": "code",
   "execution_count": 25,
   "metadata": {},
   "outputs": [],
   "source": [
    "# %load r2_score.py\n",
    "## Define r2 scoring for cross_val_score scoring\n",
    "def scorer(model,X,y):\n",
    "    model.fit(X,y)\n",
    "    ypred = model.predict(X)\n",
    "    return r2_score(y,ypred)\n",
    "\n",
    "#INIT Linear Regression\n",
    "lr = LinearRegression()"
   ]
  },
  {
   "cell_type": "code",
   "execution_count": 26,
   "metadata": {},
   "outputs": [
    {
     "name": "stdout",
     "output_type": "stream",
     "text": [
      "Model Accuracy For Obesity\n",
      "Linear Regression R2: 0.8511\n",
      "Cross Fold Validation\n",
      "Linear Regression Cross Val Score: [0.85700822 0.84302178 0.84750619 0.85795912 0.85116168]\n"
     ]
    }
   ],
   "source": [
    "# %load print_linear_obesity.py\n",
    "lr.fit(Xtrain_obesity[~arr_obesity],ytrain_obesity[~arr_obesity])\n",
    "#print results\n",
    "print('Model Accuracy For Obesity')\n",
    "print('Linear Regression R2: {:.4f}'.format(lr.score(Xtrain_obesity[~arr_obesity],ytrain_obesity[~arr_obesity])))\n",
    "print('Cross Fold Validation')\n",
    "print('Linear Regression Cross Val Score: {}'.format(cross_val_score(lr,Xtrain_obesity[~arr_obesity],ytrain_obesity[~arr_obesity],cv=5,scoring=scorer)))"
   ]
  },
  {
   "cell_type": "markdown",
   "metadata": {},
   "source": [
    "# b. Ridge Regression\n",
    "\n",
    "Finding Optimum Alpha using Scikit_learn - GridSearchCV"
   ]
  },
  {
   "cell_type": "code",
   "execution_count": 27,
   "metadata": {},
   "outputs": [
    {
     "name": "stderr",
     "output_type": "stream",
     "text": [
      "/Users/bharathkoneti/opt/anaconda3/lib/python3.7/site-packages/sklearn/linear_model/ridge.py:147: LinAlgWarning: Ill-conditioned matrix (rcond=4.43109e-18): result may not be accurate.\n",
      "  overwrite_a=True).T\n",
      "/Users/bharathkoneti/opt/anaconda3/lib/python3.7/site-packages/sklearn/linear_model/ridge.py:147: LinAlgWarning: Ill-conditioned matrix (rcond=4.48077e-18): result may not be accurate.\n",
      "  overwrite_a=True).T\n",
      "/Users/bharathkoneti/opt/anaconda3/lib/python3.7/site-packages/sklearn/linear_model/ridge.py:147: LinAlgWarning: Ill-conditioned matrix (rcond=4.55392e-18): result may not be accurate.\n",
      "  overwrite_a=True).T\n",
      "/Users/bharathkoneti/opt/anaconda3/lib/python3.7/site-packages/sklearn/linear_model/ridge.py:147: LinAlgWarning: Ill-conditioned matrix (rcond=4.49283e-18): result may not be accurate.\n",
      "  overwrite_a=True).T\n",
      "/Users/bharathkoneti/opt/anaconda3/lib/python3.7/site-packages/sklearn/linear_model/ridge.py:147: LinAlgWarning: Ill-conditioned matrix (rcond=4.77929e-18): result may not be accurate.\n",
      "  overwrite_a=True).T\n",
      "/Users/bharathkoneti/opt/anaconda3/lib/python3.7/site-packages/sklearn/linear_model/ridge.py:147: LinAlgWarning: Ill-conditioned matrix (rcond=4.82892e-18): result may not be accurate.\n",
      "  overwrite_a=True).T\n",
      "/Users/bharathkoneti/opt/anaconda3/lib/python3.7/site-packages/sklearn/linear_model/ridge.py:147: LinAlgWarning: Ill-conditioned matrix (rcond=4.90192e-18): result may not be accurate.\n",
      "  overwrite_a=True).T\n",
      "/Users/bharathkoneti/opt/anaconda3/lib/python3.7/site-packages/sklearn/linear_model/ridge.py:147: LinAlgWarning: Ill-conditioned matrix (rcond=4.8403e-18): result may not be accurate.\n",
      "  overwrite_a=True).T\n",
      "/Users/bharathkoneti/opt/anaconda3/lib/python3.7/site-packages/sklearn/linear_model/ridge.py:147: LinAlgWarning: Ill-conditioned matrix (rcond=5.12853e-18): result may not be accurate.\n",
      "  overwrite_a=True).T\n",
      "/Users/bharathkoneti/opt/anaconda3/lib/python3.7/site-packages/sklearn/linear_model/ridge.py:147: LinAlgWarning: Ill-conditioned matrix (rcond=5.17818e-18): result may not be accurate.\n",
      "  overwrite_a=True).T\n",
      "/Users/bharathkoneti/opt/anaconda3/lib/python3.7/site-packages/sklearn/linear_model/ridge.py:147: LinAlgWarning: Ill-conditioned matrix (rcond=4.76727e-18): result may not be accurate.\n",
      "  overwrite_a=True).T\n",
      "/Users/bharathkoneti/opt/anaconda3/lib/python3.7/site-packages/sklearn/linear_model/ridge.py:147: LinAlgWarning: Ill-conditioned matrix (rcond=5.18885e-18): result may not be accurate.\n",
      "  overwrite_a=True).T\n",
      "/Users/bharathkoneti/opt/anaconda3/lib/python3.7/site-packages/sklearn/linear_model/ridge.py:147: LinAlgWarning: Ill-conditioned matrix (rcond=5.1427e-18): result may not be accurate.\n",
      "  overwrite_a=True).T\n",
      "/Users/bharathkoneti/opt/anaconda3/lib/python3.7/site-packages/sklearn/linear_model/ridge.py:147: LinAlgWarning: Ill-conditioned matrix (rcond=5.21073e-18): result may not be accurate.\n",
      "  overwrite_a=True).T\n",
      "/Users/bharathkoneti/opt/anaconda3/lib/python3.7/site-packages/sklearn/linear_model/ridge.py:147: LinAlgWarning: Ill-conditioned matrix (rcond=5.15517e-18): result may not be accurate.\n",
      "  overwrite_a=True).T\n",
      "/Users/bharathkoneti/opt/anaconda3/lib/python3.7/site-packages/sklearn/linear_model/ridge.py:147: LinAlgWarning: Ill-conditioned matrix (rcond=5.53847e-18): result may not be accurate.\n",
      "  overwrite_a=True).T\n",
      "/Users/bharathkoneti/opt/anaconda3/lib/python3.7/site-packages/sklearn/linear_model/ridge.py:147: LinAlgWarning: Ill-conditioned matrix (rcond=5.53097e-18): result may not be accurate.\n",
      "  overwrite_a=True).T\n",
      "/Users/bharathkoneti/opt/anaconda3/lib/python3.7/site-packages/sklearn/linear_model/ridge.py:147: LinAlgWarning: Ill-conditioned matrix (rcond=5.59959e-18): result may not be accurate.\n",
      "  overwrite_a=True).T\n",
      "/Users/bharathkoneti/opt/anaconda3/lib/python3.7/site-packages/sklearn/linear_model/ridge.py:147: LinAlgWarning: Ill-conditioned matrix (rcond=5.54419e-18): result may not be accurate.\n",
      "  overwrite_a=True).T\n",
      "/Users/bharathkoneti/opt/anaconda3/lib/python3.7/site-packages/sklearn/linear_model/ridge.py:147: LinAlgWarning: Ill-conditioned matrix (rcond=5.57422e-18): result may not be accurate.\n",
      "  overwrite_a=True).T\n",
      "/Users/bharathkoneti/opt/anaconda3/lib/python3.7/site-packages/sklearn/linear_model/ridge.py:147: LinAlgWarning: Ill-conditioned matrix (rcond=5.92033e-18): result may not be accurate.\n",
      "  overwrite_a=True).T\n",
      "/Users/bharathkoneti/opt/anaconda3/lib/python3.7/site-packages/sklearn/linear_model/ridge.py:147: LinAlgWarning: Ill-conditioned matrix (rcond=5.98951e-18): result may not be accurate.\n",
      "  overwrite_a=True).T\n",
      "/Users/bharathkoneti/opt/anaconda3/lib/python3.7/site-packages/sklearn/linear_model/ridge.py:147: LinAlgWarning: Ill-conditioned matrix (rcond=5.9343e-18): result may not be accurate.\n",
      "  overwrite_a=True).T\n",
      "/Users/bharathkoneti/opt/anaconda3/lib/python3.7/site-packages/sklearn/linear_model/ridge.py:147: LinAlgWarning: Ill-conditioned matrix (rcond=5.96373e-18): result may not be accurate.\n",
      "  overwrite_a=True).T\n",
      "/Users/bharathkoneti/opt/anaconda3/lib/python3.7/site-packages/sklearn/linear_model/ridge.py:147: LinAlgWarning: Ill-conditioned matrix (rcond=6.31074e-18): result may not be accurate.\n",
      "  overwrite_a=True).T\n",
      "/Users/bharathkoneti/opt/anaconda3/lib/python3.7/site-packages/sklearn/linear_model/ridge.py:147: LinAlgWarning: Ill-conditioned matrix (rcond=6.38049e-18): result may not be accurate.\n",
      "  overwrite_a=True).T\n",
      "/Users/bharathkoneti/opt/anaconda3/lib/python3.7/site-packages/sklearn/linear_model/ridge.py:147: LinAlgWarning: Ill-conditioned matrix (rcond=6.32548e-18): result may not be accurate.\n",
      "  overwrite_a=True).T\n",
      "/Users/bharathkoneti/opt/anaconda3/lib/python3.7/site-packages/sklearn/linear_model/ridge.py:147: LinAlgWarning: Ill-conditioned matrix (rcond=6.35433e-18): result may not be accurate.\n",
      "  overwrite_a=True).T\n",
      "/Users/bharathkoneti/opt/anaconda3/lib/python3.7/site-packages/sklearn/linear_model/ridge.py:147: LinAlgWarning: Ill-conditioned matrix (rcond=6.70219e-18): result may not be accurate.\n",
      "  overwrite_a=True).T\n",
      "/Users/bharathkoneti/opt/anaconda3/lib/python3.7/site-packages/sklearn/linear_model/ridge.py:147: LinAlgWarning: Ill-conditioned matrix (rcond=6.77248e-18): result may not be accurate.\n",
      "  overwrite_a=True).T\n",
      "/Users/bharathkoneti/opt/anaconda3/lib/python3.7/site-packages/sklearn/linear_model/ridge.py:147: LinAlgWarning: Ill-conditioned matrix (rcond=6.71769e-18): result may not be accurate.\n",
      "  overwrite_a=True).T\n",
      "/Users/bharathkoneti/opt/anaconda3/lib/python3.7/site-packages/sklearn/linear_model/ridge.py:147: LinAlgWarning: Ill-conditioned matrix (rcond=6.74597e-18): result may not be accurate.\n",
      "  overwrite_a=True).T\n",
      "/Users/bharathkoneti/opt/anaconda3/lib/python3.7/site-packages/sklearn/linear_model/ridge.py:147: LinAlgWarning: Ill-conditioned matrix (rcond=7.09465e-18): result may not be accurate.\n",
      "  overwrite_a=True).T\n",
      "/Users/bharathkoneti/opt/anaconda3/lib/python3.7/site-packages/sklearn/linear_model/ridge.py:147: LinAlgWarning: Ill-conditioned matrix (rcond=7.16547e-18): result may not be accurate.\n",
      "  overwrite_a=True).T\n",
      "/Users/bharathkoneti/opt/anaconda3/lib/python3.7/site-packages/sklearn/linear_model/ridge.py:147: LinAlgWarning: Ill-conditioned matrix (rcond=7.11091e-18): result may not be accurate.\n",
      "  overwrite_a=True).T\n",
      "/Users/bharathkoneti/opt/anaconda3/lib/python3.7/site-packages/sklearn/linear_model/ridge.py:147: LinAlgWarning: Ill-conditioned matrix (rcond=7.13865e-18): result may not be accurate.\n",
      "  overwrite_a=True).T\n",
      "/Users/bharathkoneti/opt/anaconda3/lib/python3.7/site-packages/sklearn/linear_model/ridge.py:147: LinAlgWarning: Ill-conditioned matrix (rcond=7.48808e-18): result may not be accurate.\n",
      "  overwrite_a=True).T\n",
      "/Users/bharathkoneti/opt/anaconda3/lib/python3.7/site-packages/sklearn/linear_model/ridge.py:147: LinAlgWarning: Ill-conditioned matrix (rcond=7.55943e-18): result may not be accurate.\n",
      "  overwrite_a=True).T\n",
      "/Users/bharathkoneti/opt/anaconda3/lib/python3.7/site-packages/sklearn/linear_model/ridge.py:147: LinAlgWarning: Ill-conditioned matrix (rcond=7.50511e-18): result may not be accurate.\n",
      "  overwrite_a=True).T\n",
      "/Users/bharathkoneti/opt/anaconda3/lib/python3.7/site-packages/sklearn/linear_model/ridge.py:147: LinAlgWarning: Ill-conditioned matrix (rcond=7.53232e-18): result may not be accurate.\n",
      "  overwrite_a=True).T\n"
     ]
    },
    {
     "name": "stderr",
     "output_type": "stream",
     "text": [
      "/Users/bharathkoneti/opt/anaconda3/lib/python3.7/site-packages/sklearn/linear_model/ridge.py:147: LinAlgWarning: Ill-conditioned matrix (rcond=7.88248e-18): result may not be accurate.\n",
      "  overwrite_a=True).T\n",
      "/Users/bharathkoneti/opt/anaconda3/lib/python3.7/site-packages/sklearn/linear_model/ridge.py:147: LinAlgWarning: Ill-conditioned matrix (rcond=7.95058e-18): result may not be accurate.\n",
      "  overwrite_a=True).T\n",
      "/Users/bharathkoneti/opt/anaconda3/lib/python3.7/site-packages/sklearn/linear_model/ridge.py:147: LinAlgWarning: Ill-conditioned matrix (rcond=7.90028e-18): result may not be accurate.\n",
      "  overwrite_a=True).T\n",
      "/Users/bharathkoneti/opt/anaconda3/lib/python3.7/site-packages/sklearn/linear_model/ridge.py:147: LinAlgWarning: Ill-conditioned matrix (rcond=7.92697e-18): result may not be accurate.\n",
      "  overwrite_a=True).T\n",
      "/Users/bharathkoneti/opt/anaconda3/lib/python3.7/site-packages/sklearn/linear_model/ridge.py:147: LinAlgWarning: Ill-conditioned matrix (rcond=8.27781e-18): result may not be accurate.\n",
      "  overwrite_a=True).T\n",
      "/Users/bharathkoneti/opt/anaconda3/lib/python3.7/site-packages/sklearn/linear_model/ridge.py:147: LinAlgWarning: Ill-conditioned matrix (rcond=8.33938e-18): result may not be accurate.\n",
      "  overwrite_a=True).T\n",
      "/Users/bharathkoneti/opt/anaconda3/lib/python3.7/site-packages/sklearn/linear_model/ridge.py:147: LinAlgWarning: Ill-conditioned matrix (rcond=8.2964e-18): result may not be accurate.\n",
      "  overwrite_a=True).T\n",
      "/Users/bharathkoneti/opt/anaconda3/lib/python3.7/site-packages/sklearn/linear_model/ridge.py:147: LinAlgWarning: Ill-conditioned matrix (rcond=8.32258e-18): result may not be accurate.\n",
      "  overwrite_a=True).T\n",
      "/Users/bharathkoneti/opt/anaconda3/lib/python3.7/site-packages/sklearn/linear_model/ridge.py:147: LinAlgWarning: Ill-conditioned matrix (rcond=8.67407e-18): result may not be accurate.\n",
      "  overwrite_a=True).T\n",
      "/Users/bharathkoneti/opt/anaconda3/lib/python3.7/site-packages/sklearn/linear_model/ridge.py:147: LinAlgWarning: Ill-conditioned matrix (rcond=8.72863e-18): result may not be accurate.\n",
      "  overwrite_a=True).T\n",
      "/Users/bharathkoneti/opt/anaconda3/lib/python3.7/site-packages/sklearn/linear_model/ridge.py:147: LinAlgWarning: Ill-conditioned matrix (rcond=8.69344e-18): result may not be accurate.\n",
      "  overwrite_a=True).T\n",
      "/Users/bharathkoneti/opt/anaconda3/lib/python3.7/site-packages/sklearn/linear_model/ridge.py:147: LinAlgWarning: Ill-conditioned matrix (rcond=8.71912e-18): result may not be accurate.\n",
      "  overwrite_a=True).T\n",
      "/Users/bharathkoneti/opt/anaconda3/lib/python3.7/site-packages/sklearn/linear_model/ridge.py:147: LinAlgWarning: Ill-conditioned matrix (rcond=9.06776e-18): result may not be accurate.\n",
      "  overwrite_a=True).T\n",
      "/Users/bharathkoneti/opt/anaconda3/lib/python3.7/site-packages/sklearn/linear_model/ridge.py:147: LinAlgWarning: Ill-conditioned matrix (rcond=9.11832e-18): result may not be accurate.\n",
      "  overwrite_a=True).T\n",
      "/Users/bharathkoneti/opt/anaconda3/lib/python3.7/site-packages/sklearn/linear_model/ridge.py:147: LinAlgWarning: Ill-conditioned matrix (rcond=9.09139e-18): result may not be accurate.\n",
      "  overwrite_a=True).T\n",
      "/Users/bharathkoneti/opt/anaconda3/lib/python3.7/site-packages/sklearn/linear_model/ridge.py:147: LinAlgWarning: Ill-conditioned matrix (rcond=9.11658e-18): result may not be accurate.\n",
      "  overwrite_a=True).T\n",
      "/Users/bharathkoneti/opt/anaconda3/lib/python3.7/site-packages/sklearn/linear_model/ridge.py:147: LinAlgWarning: Ill-conditioned matrix (rcond=9.45825e-18): result may not be accurate.\n",
      "  overwrite_a=True).T\n",
      "/Users/bharathkoneti/opt/anaconda3/lib/python3.7/site-packages/sklearn/linear_model/ridge.py:147: LinAlgWarning: Ill-conditioned matrix (rcond=9.50844e-18): result may not be accurate.\n",
      "  overwrite_a=True).T\n",
      "/Users/bharathkoneti/opt/anaconda3/lib/python3.7/site-packages/sklearn/linear_model/ridge.py:147: LinAlgWarning: Ill-conditioned matrix (rcond=9.48395e-18): result may not be accurate.\n",
      "  overwrite_a=True).T\n",
      "/Users/bharathkoneti/opt/anaconda3/lib/python3.7/site-packages/sklearn/linear_model/ridge.py:147: LinAlgWarning: Ill-conditioned matrix (rcond=9.51494e-18): result may not be accurate.\n",
      "  overwrite_a=True).T\n",
      "/Users/bharathkoneti/opt/anaconda3/lib/python3.7/site-packages/sklearn/linear_model/ridge.py:147: LinAlgWarning: Ill-conditioned matrix (rcond=9.84916e-18): result may not be accurate.\n",
      "  overwrite_a=True).T\n",
      "/Users/bharathkoneti/opt/anaconda3/lib/python3.7/site-packages/sklearn/linear_model/ridge.py:147: LinAlgWarning: Ill-conditioned matrix (rcond=9.89899e-18): result may not be accurate.\n",
      "  overwrite_a=True).T\n",
      "/Users/bharathkoneti/opt/anaconda3/lib/python3.7/site-packages/sklearn/linear_model/ridge.py:147: LinAlgWarning: Ill-conditioned matrix (rcond=9.8757e-18): result may not be accurate.\n",
      "  overwrite_a=True).T\n",
      "/Users/bharathkoneti/opt/anaconda3/lib/python3.7/site-packages/sklearn/linear_model/ridge.py:147: LinAlgWarning: Ill-conditioned matrix (rcond=9.91418e-18): result may not be accurate.\n",
      "  overwrite_a=True).T\n",
      "/Users/bharathkoneti/opt/anaconda3/lib/python3.7/site-packages/sklearn/linear_model/ridge.py:147: LinAlgWarning: Ill-conditioned matrix (rcond=1.02405e-17): result may not be accurate.\n",
      "  overwrite_a=True).T\n",
      "/Users/bharathkoneti/opt/anaconda3/lib/python3.7/site-packages/sklearn/linear_model/ridge.py:147: LinAlgWarning: Ill-conditioned matrix (rcond=1.029e-17): result may not be accurate.\n",
      "  overwrite_a=True).T\n"
     ]
    },
    {
     "name": "stdout",
     "output_type": "stream",
     "text": [
      "Best Alpha: 0.1053\n",
      "Best Score: 0.8480\n"
     ]
    },
    {
     "name": "stderr",
     "output_type": "stream",
     "text": [
      "/Users/bharathkoneti/opt/anaconda3/lib/python3.7/site-packages/sklearn/linear_model/ridge.py:147: LinAlgWarning: Ill-conditioned matrix (rcond=1.02679e-17): result may not be accurate.\n",
      "  overwrite_a=True).T\n",
      "/Users/bharathkoneti/opt/anaconda3/lib/python3.7/site-packages/sklearn/linear_model/ridge.py:147: LinAlgWarning: Ill-conditioned matrix (rcond=1.03086e-17): result may not be accurate.\n",
      "  overwrite_a=True).T\n",
      "/Users/bharathkoneti/opt/anaconda3/lib/python3.7/site-packages/sklearn/linear_model/ridge.py:147: LinAlgWarning: Ill-conditioned matrix (rcond=1.06323e-17): result may not be accurate.\n",
      "  overwrite_a=True).T\n",
      "/Users/bharathkoneti/opt/anaconda3/lib/python3.7/site-packages/sklearn/linear_model/ridge.py:147: LinAlgWarning: Ill-conditioned matrix (rcond=1.06814e-17): result may not be accurate.\n",
      "  overwrite_a=True).T\n",
      "/Users/bharathkoneti/opt/anaconda3/lib/python3.7/site-packages/sklearn/linear_model/ridge.py:147: LinAlgWarning: Ill-conditioned matrix (rcond=1.06605e-17): result may not be accurate.\n",
      "  overwrite_a=True).T\n",
      "/Users/bharathkoneti/opt/anaconda3/lib/python3.7/site-packages/sklearn/linear_model/ridge.py:147: LinAlgWarning: Ill-conditioned matrix (rcond=1.07012e-17): result may not be accurate.\n",
      "  overwrite_a=True).T\n",
      "/Users/bharathkoneti/opt/anaconda3/lib/python3.7/site-packages/sklearn/linear_model/ridge.py:147: LinAlgWarning: Ill-conditioned matrix (rcond=1.10244e-17): result may not be accurate.\n",
      "  overwrite_a=True).T\n",
      "/Users/bharathkoneti/opt/anaconda3/lib/python3.7/site-packages/sklearn/linear_model/ridge.py:147: LinAlgWarning: Ill-conditioned matrix (rcond=1.10732e-17): result may not be accurate.\n",
      "  overwrite_a=True).T\n",
      "/Users/bharathkoneti/opt/anaconda3/lib/python3.7/site-packages/sklearn/linear_model/ridge.py:147: LinAlgWarning: Ill-conditioned matrix (rcond=1.10535e-17): result may not be accurate.\n",
      "  overwrite_a=True).T\n",
      "/Users/bharathkoneti/opt/anaconda3/lib/python3.7/site-packages/sklearn/linear_model/ridge.py:147: LinAlgWarning: Ill-conditioned matrix (rcond=1.10942e-17): result may not be accurate.\n",
      "  overwrite_a=True).T\n",
      "/Users/bharathkoneti/opt/anaconda3/lib/python3.7/site-packages/sklearn/linear_model/ridge.py:147: LinAlgWarning: Ill-conditioned matrix (rcond=1.1417e-17): result may not be accurate.\n",
      "  overwrite_a=True).T\n",
      "/Users/bharathkoneti/opt/anaconda3/lib/python3.7/site-packages/sklearn/linear_model/ridge.py:147: LinAlgWarning: Ill-conditioned matrix (rcond=1.14655e-17): result may not be accurate.\n",
      "  overwrite_a=True).T\n",
      "/Users/bharathkoneti/opt/anaconda3/lib/python3.7/site-packages/sklearn/linear_model/ridge.py:147: LinAlgWarning: Ill-conditioned matrix (rcond=1.14469e-17): result may not be accurate.\n",
      "  overwrite_a=True).T\n",
      "/Users/bharathkoneti/opt/anaconda3/lib/python3.7/site-packages/sklearn/linear_model/ridge.py:147: LinAlgWarning: Ill-conditioned matrix (rcond=1.14876e-17): result may not be accurate.\n",
      "  overwrite_a=True).T\n",
      "/Users/bharathkoneti/opt/anaconda3/lib/python3.7/site-packages/sklearn/linear_model/ridge.py:147: LinAlgWarning: Ill-conditioned matrix (rcond=6.32144e-18): result may not be accurate.\n",
      "  overwrite_a=True).T\n"
     ]
    }
   ],
   "source": [
    "# %load find_alpha_obesity.py\n",
    "alphas = np.linspace(0,1,20)\n",
    "params = {'alpha':alphas}\n",
    "\n",
    "ridge = Ridge()\n",
    "grid = GridSearchCV(ridge,params,cv=5)\n",
    "grid.fit(Xtrain_obesity[~arr_obesity],ytrain_obesity[~arr_obesity])\n",
    "best_alpha = grid.best_params_['alpha']\n",
    "best_score = grid.best_score_\n",
    "print('Best Alpha: {:.4f}'.format(best_alpha))\n",
    "print('Best Score: {:.4f}'.format(best_score))"
   ]
  },
  {
   "cell_type": "code",
   "execution_count": 28,
   "metadata": {},
   "outputs": [
    {
     "name": "stdout",
     "output_type": "stream",
     "text": [
      "Ridge Model Tested on Unseen Data\n",
      "Score on holdout data: 0.8400\n"
     ]
    },
    {
     "name": "stderr",
     "output_type": "stream",
     "text": [
      "/Users/bharathkoneti/opt/anaconda3/lib/python3.7/site-packages/sklearn/linear_model/ridge.py:147: LinAlgWarning: Ill-conditioned matrix (rcond=6.32144e-18): result may not be accurate.\n",
      "  overwrite_a=True).T\n"
     ]
    }
   ],
   "source": [
    "# %load print_ridge_obesity.py\n",
    "print('Ridge Model Tested on Unseen Data')\n",
    "ridge = Ridge(alpha=best_alpha)\n",
    "ridge.fit(Xtrain_obesity[~arr_obesity],ytrain_obesity[~arr_obesity])\n",
    "ypred = ridge.predict(Xtest_obesity)\n",
    "print('Score on holdout data: {:.4f}'.format(r2_score(ytest_obesity,ypred)))"
   ]
  },
  {
   "cell_type": "markdown",
   "metadata": {},
   "source": [
    "# c. Random Forest"
   ]
  },
  {
   "cell_type": "code",
   "execution_count": 29,
   "metadata": {},
   "outputs": [
    {
     "name": "stderr",
     "output_type": "stream",
     "text": [
      "/Users/bharathkoneti/opt/anaconda3/lib/python3.7/site-packages/sklearn/ensemble/forest.py:245: FutureWarning: The default value of n_estimators will change from 10 in version 0.20 to 100 in 0.22.\n",
      "  \"10 in version 0.20 to 100 in 0.22.\", FutureWarning)\n"
     ]
    },
    {
     "name": "stdout",
     "output_type": "stream",
     "text": [
      "Random Forest R^2 Score on TRAIN DATA: 0.9888\n"
     ]
    }
   ],
   "source": [
    "# %load print_random_forest_obesity.py\n",
    "randforest= RandomForestRegressor()\n",
    "randforest.fit(Xtrain_obesity[~arr_obesity],ytrain_obesity[~arr_obesity])\n",
    "ypred = randforest.predict(Xtrain_obesity[~arr_obesity])\n",
    "print('Random Forest R^2 Score on TRAIN DATA: {:.4f}'.format(r2_score(ytrain_obesity[~arr_obesity],ypred)))"
   ]
  },
  {
   "cell_type": "code",
   "execution_count": 30,
   "metadata": {},
   "outputs": [
    {
     "name": "stdout",
     "output_type": "stream",
     "text": [
      "Random Forst R^2 Score on TEST DATA: 0.9343\n"
     ]
    }
   ],
   "source": [
    "ypred = randforest.predict(Xtest_obesity)\n",
    "print('Random Forst R^2 Score on TEST DATA: {:.4f}'.format(r2_score(ytest_obesity,ypred)))"
   ]
  },
  {
   "cell_type": "markdown",
   "metadata": {},
   "source": [
    "# Final TOP Features for Obesity"
   ]
  },
  {
   "cell_type": "code",
   "execution_count": 31,
   "metadata": {},
   "outputs": [
    {
     "data": {
      "text/html": [
       "<div>\n",
       "<style scoped>\n",
       "    .dataframe tbody tr th:only-of-type {\n",
       "        vertical-align: middle;\n",
       "    }\n",
       "\n",
       "    .dataframe tbody tr th {\n",
       "        vertical-align: top;\n",
       "    }\n",
       "\n",
       "    .dataframe thead th {\n",
       "        text-align: right;\n",
       "    }\n",
       "</style>\n",
       "<table border=\"1\" class=\"dataframe\">\n",
       "  <thead>\n",
       "    <tr style=\"text-align: right;\">\n",
       "      <th></th>\n",
       "      <th>Feature Importances</th>\n",
       "    </tr>\n",
       "  </thead>\n",
       "  <tbody>\n",
       "    <tr>\n",
       "      <td>LPA</td>\n",
       "      <td>0.617598140</td>\n",
       "    </tr>\n",
       "    <tr>\n",
       "      <td>CSMOKING</td>\n",
       "      <td>0.196271322</td>\n",
       "    </tr>\n",
       "    <tr>\n",
       "      <td>SLEEP</td>\n",
       "      <td>0.038578966</td>\n",
       "    </tr>\n",
       "    <tr>\n",
       "      <td>index</td>\n",
       "      <td>0.029475434</td>\n",
       "    </tr>\n",
       "    <tr>\n",
       "      <td>Unnamed: 0</td>\n",
       "      <td>0.024117528</td>\n",
       "    </tr>\n",
       "  </tbody>\n",
       "</table>\n",
       "</div>"
      ],
      "text/plain": [
       "            Feature Importances\n",
       "LPA                 0.617598140\n",
       "CSMOKING            0.196271322\n",
       "SLEEP               0.038578966\n",
       "index               0.029475434\n",
       "Unnamed: 0          0.024117528"
      ]
     },
     "execution_count": 31,
     "metadata": {},
     "output_type": "execute_result"
    }
   ],
   "source": [
    "pd.DataFrame(randforest.feature_importances_,index=Xtrain_obesity.columns,columns=['Feature Importances']).sort_values('Feature Importances',ascending=False).head()"
   ]
  },
  {
   "cell_type": "markdown",
   "metadata": {},
   "source": [
    "# 2. Cancer\n",
    "# a. Linear Regression"
   ]
  },
  {
   "cell_type": "code",
   "execution_count": 32,
   "metadata": {},
   "outputs": [
    {
     "name": "stdout",
     "output_type": "stream",
     "text": [
      "Model Accuracy For Cancer\n",
      "Linear Regression R2: 0.9579\n",
      "Cross Fold Validation\n",
      "Linear Regression Cross Val Score: [0.959196   0.95929714 0.96112516 0.95659272 0.95647891]\n"
     ]
    }
   ],
   "source": [
    "# %load print_linear_cancer.py\n",
    "#For Cancer\n",
    "#Fit Linear Regression to the training data with outliers withheld\n",
    "lr.fit(Xtrain_cancer[~arr_cancer],ytrain_cancer[~arr_cancer])\n",
    "\n",
    "#print results\n",
    "print('Model Accuracy For Cancer')\n",
    "print('Linear Regression R2: {:.4f}'.format(lr.score(Xtrain_cancer[~arr_cancer],ytrain_cancer[~arr_cancer])))\n",
    "print('Cross Fold Validation')\n",
    "print('Linear Regression Cross Val Score: {}'.format(cross_val_score(lr,Xtrain_cancer[~arr_cancer],ytrain_cancer[~arr_cancer],cv=5,scoring=scorer)))"
   ]
  },
  {
   "cell_type": "markdown",
   "metadata": {},
   "source": [
    "# b. Ridge Regression\n",
    "\n",
    "Finding Optimum Alpha using Scikit_learn - GridSearchCV"
   ]
  },
  {
   "cell_type": "code",
   "execution_count": 33,
   "metadata": {},
   "outputs": [
    {
     "name": "stderr",
     "output_type": "stream",
     "text": [
      "/Users/bharathkoneti/opt/anaconda3/lib/python3.7/site-packages/sklearn/linear_model/ridge.py:147: LinAlgWarning: Ill-conditioned matrix (rcond=8.16736e-17): result may not be accurate.\n",
      "  overwrite_a=True).T\n",
      "/Users/bharathkoneti/opt/anaconda3/lib/python3.7/site-packages/sklearn/linear_model/ridge.py:147: LinAlgWarning: Ill-conditioned matrix (rcond=9.03653e-17): result may not be accurate.\n",
      "  overwrite_a=True).T\n",
      "/Users/bharathkoneti/opt/anaconda3/lib/python3.7/site-packages/sklearn/linear_model/ridge.py:147: LinAlgWarning: Ill-conditioned matrix (rcond=8.7684e-17): result may not be accurate.\n",
      "  overwrite_a=True).T\n",
      "/Users/bharathkoneti/opt/anaconda3/lib/python3.7/site-packages/sklearn/linear_model/ridge.py:147: LinAlgWarning: Ill-conditioned matrix (rcond=7.74285e-17): result may not be accurate.\n",
      "  overwrite_a=True).T\n"
     ]
    },
    {
     "name": "stdout",
     "output_type": "stream",
     "text": [
      "Best Alpha: 0.0000\n",
      "Best Score: 0.9575\n"
     ]
    },
    {
     "name": "stderr",
     "output_type": "stream",
     "text": [
      "/Users/bharathkoneti/opt/anaconda3/lib/python3.7/site-packages/sklearn/linear_model/ridge.py:147: LinAlgWarning: Ill-conditioned matrix (rcond=9.36265e-17): result may not be accurate.\n",
      "  overwrite_a=True).T\n"
     ]
    }
   ],
   "source": [
    "# %load find_alpha_cancer.py\n",
    "alphas = np.linspace(0,1,20)\n",
    "params = {'alpha':alphas}\n",
    "\n",
    "ridge = Ridge()\n",
    "grid = GridSearchCV(ridge,params,cv=5)\n",
    "grid.fit(Xtrain_cancer[~arr_cancer],ytrain_cancer[~arr_cancer])\n",
    "best_alpha = grid.best_params_['alpha']\n",
    "best_score = grid.best_score_\n",
    "print('Best Alpha: {:.4f}'.format(best_alpha))\n",
    "print('Best Score: {:.4f}'.format(best_score))"
   ]
  },
  {
   "cell_type": "code",
   "execution_count": 34,
   "metadata": {},
   "outputs": [
    {
     "name": "stdout",
     "output_type": "stream",
     "text": [
      "Ridge Model Tested on Unseen Data\n",
      "Score on holdout data: 0.8852\n"
     ]
    },
    {
     "name": "stderr",
     "output_type": "stream",
     "text": [
      "/Users/bharathkoneti/opt/anaconda3/lib/python3.7/site-packages/sklearn/linear_model/ridge.py:147: LinAlgWarning: Ill-conditioned matrix (rcond=9.36265e-17): result may not be accurate.\n",
      "  overwrite_a=True).T\n"
     ]
    }
   ],
   "source": [
    "# %load print_ridge_cancer.py\n",
    "print('Ridge Model Tested on Unseen Data')\n",
    "ridge = Ridge(alpha=best_alpha)\n",
    "ridge.fit(Xtrain_cancer[~arr_cancer],ytrain_cancer[~arr_cancer])\n",
    "ypred = ridge.predict(Xtest_cancer)\n",
    "print('Score on holdout data: {:.4f}'.format(r2_score(ytest_cancer,ypred)))"
   ]
  },
  {
   "cell_type": "markdown",
   "metadata": {},
   "source": [
    "# c. Random Forest"
   ]
  },
  {
   "cell_type": "code",
   "execution_count": 35,
   "metadata": {},
   "outputs": [
    {
     "name": "stderr",
     "output_type": "stream",
     "text": [
      "/Users/bharathkoneti/opt/anaconda3/lib/python3.7/site-packages/sklearn/ensemble/forest.py:245: FutureWarning: The default value of n_estimators will change from 10 in version 0.20 to 100 in 0.22.\n",
      "  \"10 in version 0.20 to 100 in 0.22.\", FutureWarning)\n"
     ]
    },
    {
     "name": "stdout",
     "output_type": "stream",
     "text": [
      "Random Forest R^2 Score on TRAIN DATA: 0.9936\n"
     ]
    }
   ],
   "source": [
    "# %load print_random_forest_cancer.py\n",
    "randforest= RandomForestRegressor()\n",
    "randforest.fit(Xtrain_cancer[~arr_cancer],ytrain_cancer[~arr_cancer])\n",
    "ypred = randforest.predict(Xtrain_cancer[~arr_cancer])\n",
    "print('Random Forest R^2 Score on TRAIN DATA: {:.4f}'.format(r2_score(ytrain_cancer[~arr_cancer],ypred)))"
   ]
  },
  {
   "cell_type": "code",
   "execution_count": 36,
   "metadata": {},
   "outputs": [
    {
     "name": "stdout",
     "output_type": "stream",
     "text": [
      "Random Forst R^2 Score on TEST DATA: 0.9669\n"
     ]
    }
   ],
   "source": [
    "ypred = randforest.predict(Xtest_cancer)\n",
    "print('Random Forst R^2 Score on TEST DATA: {:.4f}'.format(r2_score(ytest_cancer,ypred)))"
   ]
  },
  {
   "cell_type": "markdown",
   "metadata": {},
   "source": [
    "# Final TOP Features for Cancer"
   ]
  },
  {
   "cell_type": "code",
   "execution_count": 37,
   "metadata": {},
   "outputs": [
    {
     "data": {
      "text/html": [
       "<div>\n",
       "<style scoped>\n",
       "    .dataframe tbody tr th:only-of-type {\n",
       "        vertical-align: middle;\n",
       "    }\n",
       "\n",
       "    .dataframe tbody tr th {\n",
       "        vertical-align: top;\n",
       "    }\n",
       "\n",
       "    .dataframe thead th {\n",
       "        text-align: right;\n",
       "    }\n",
       "</style>\n",
       "<table border=\"1\" class=\"dataframe\">\n",
       "  <thead>\n",
       "    <tr style=\"text-align: right;\">\n",
       "      <th></th>\n",
       "      <th>Feature Importances</th>\n",
       "    </tr>\n",
       "  </thead>\n",
       "  <tbody>\n",
       "    <tr>\n",
       "      <td>CHOLSCREEN</td>\n",
       "      <td>0.446848009</td>\n",
       "    </tr>\n",
       "    <tr>\n",
       "      <td>ARTHRITIS</td>\n",
       "      <td>0.152755191</td>\n",
       "    </tr>\n",
       "    <tr>\n",
       "      <td>CHD</td>\n",
       "      <td>0.121554784</td>\n",
       "    </tr>\n",
       "    <tr>\n",
       "      <td>HIGHCHOL</td>\n",
       "      <td>0.101248463</td>\n",
       "    </tr>\n",
       "    <tr>\n",
       "      <td>SLEEP</td>\n",
       "      <td>0.044033938</td>\n",
       "    </tr>\n",
       "  </tbody>\n",
       "</table>\n",
       "</div>"
      ],
      "text/plain": [
       "            Feature Importances\n",
       "CHOLSCREEN          0.446848009\n",
       "ARTHRITIS           0.152755191\n",
       "CHD                 0.121554784\n",
       "HIGHCHOL            0.101248463\n",
       "SLEEP               0.044033938"
      ]
     },
     "execution_count": 37,
     "metadata": {},
     "output_type": "execute_result"
    }
   ],
   "source": [
    "pd.DataFrame(randforest.feature_importances_,index=Xtrain_cancer.columns,columns=['Feature Importances']).sort_values('Feature Importances',ascending=False).head()"
   ]
  },
  {
   "cell_type": "markdown",
   "metadata": {},
   "source": [
    "# --------------------------ML Analysis Ends Here-----------------------------"
   ]
  },
  {
   "cell_type": "markdown",
   "metadata": {},
   "source": [
    "# CONCLUSION from the PROJECT"
   ]
  },
  {
   "cell_type": "markdown",
   "metadata": {},
   "source": [
    "1. We followed every step involved in a Datascience Project Lifecycle - Data Cleaning, EDA, Vizualizations, ML Analysis and Outcomes\n",
    "2. Top Unhealthy behaviours which resulted in having OBESITY are:\n",
    "    LOW PHYSICAL ACTIVITY, SMOKING and LACK OF SLEEP\n",
    "3. Top Features which resulted in having CANCER are:\n",
    "    LACK of CHOLESTROL SCREENING, ARTHRITIS and Heart Diseases\n",
    "\n",
    "Thus, our results validates our hypothesis. \n",
    "Unheathy behaviours have a inverse relationship with the Chronic Diseases - Obesity and CANCER\n",
    "\n",
    "Thank You..!"
   ]
  },
  {
   "cell_type": "code",
   "execution_count": null,
   "metadata": {},
   "outputs": [],
   "source": []
  }
 ],
 "metadata": {
  "kernelspec": {
   "display_name": "Python 3",
   "language": "python",
   "name": "python3"
  },
  "language_info": {
   "codemirror_mode": {
    "name": "ipython",
    "version": 3
   },
   "file_extension": ".py",
   "mimetype": "text/x-python",
   "name": "python",
   "nbconvert_exporter": "python",
   "pygments_lexer": "ipython3",
   "version": "3.7.4"
  }
 },
 "nbformat": 4,
 "nbformat_minor": 2
}
